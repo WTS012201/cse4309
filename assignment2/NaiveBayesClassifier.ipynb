{
  "cells": [
    {
      "attachments": {},
      "cell_type": "markdown",
      "metadata": {},
      "source": [
        "William Sigala\n",
        "id: 1001730022"
      ]
    },
    {
      "cell_type": "code",
      "execution_count": 1,
      "metadata": {},
      "outputs": [],
      "source": [
        "import pandas as pd\n",
        "import re"
      ]
    },
    {
      "cell_type": "code",
      "execution_count": 2,
      "metadata": {
        "id": "f403FP6E1aQ8"
      },
      "outputs": [],
      "source": [
        "class NaiveBayesClassifier():\n",
        "    def __init__(self, train_data) -> None:\n",
        "        self.alpha = 1\n",
        "        self.re= re.compile('[^a-zA-Z ]')\n",
        "        self.class_tables = self.separate_by_class(train_data)\n",
        "        self.priors = self.calc_priors(train_data)\n",
        "        self.n_classes = len(self.priors.keys())\n",
        "        self.con_probs = self.calc_probs()\n",
        "\n",
        "    def separate_by_class(self, train_data):\n",
        "        class_tables = {}\n",
        "\n",
        "        for label in train_data.label:\n",
        "            if label not in class_tables:\n",
        "                class_tables[label] = train_data.loc[train_data.label == label]\n",
        "        \n",
        "        return class_tables\n",
        "\n",
        "    def calc_priors(self, train_data):\n",
        "        priors = {}\n",
        "\n",
        "        for label, class_data in self.class_tables.items():\n",
        "            priors[label] = class_data.shape[0] / train_data.shape[0]\n",
        "        \n",
        "        return priors\n",
        "    \n",
        "    def calc_probs(self):\n",
        "        vocab_class = {}\n",
        "\n",
        "        for label, class_data in self.class_tables.items():\n",
        "            vocab_class[label] = {}\n",
        "            for sentence in class_data.review:\n",
        "                sentence = sentence.lower()\n",
        "                sentence = self.re.sub(' ', sentence)\n",
        "                for word in sentence.split():\n",
        "                    if word in vocab_class[label]:\n",
        "                        vocab_class[label][word] += 1\n",
        "                    else:\n",
        "                        vocab_class[label][word] = 1\n",
        "            omitted_vocab = {\n",
        "                key : 0 for key, val in vocab_class[label].items() if val >= 5\n",
        "            }\n",
        "            vocab_class[label] = omitted_vocab\n",
        "\n",
        "        for label, class_data in self.class_tables.items():\n",
        "            class_size = len(class_data.review)\n",
        "            vocab = vocab_class[label]\n",
        "\n",
        "            for sentence in class_data.review:\n",
        "                added = set()\n",
        "                sentence = sentence.lower()\n",
        "                sentence = self.re.sub(' ', sentence)\n",
        "                for word in sentence.split():\n",
        "                    if word in vocab.keys() and word not in added:\n",
        "                        vocab[word] += 1        \n",
        "                    added.add(word)\n",
        "            for word in vocab.keys():\n",
        "                vocab[word] += self.alpha\n",
        "                vocab[word] /= (self.alpha * self.n_classes + class_size)\n",
        "            vocab_class[label] = {\n",
        "                k: v for k, v in sorted(\n",
        "                    vocab.items(), key=lambda item: item[1], reverse=True\n",
        "                )\n",
        "            } \n",
        "\n",
        "        return vocab_class\n",
        "\n",
        "    def __call__(self, sentence):\n",
        "        max_posterior = (None, 0)\n",
        "\n",
        "        for label, prior in self.priors.items():\n",
        "            sentence = sentence.lower()\n",
        "            sentence = self.re.sub(' ', sentence)\n",
        "            likelihood = prior\n",
        "            class_size = len(self.con_probs[label].keys())\n",
        "\n",
        "            for w in sentence.split():\n",
        "                if w in self.con_probs[label]:\n",
        "                    likelihood *= self.con_probs[label][w] \n",
        "                else:\n",
        "                    likelihood *= self.alpha / \\\n",
        "                    (self.alpha * self.n_classes + class_size)\n",
        "\n",
        "            if likelihood > max_posterior[1]:\n",
        "                max_posterior = (label, likelihood)\n",
        "        \n",
        "        return max_posterior\n"
      ]
    },
    {
      "cell_type": "code",
      "execution_count": 3,
      "metadata": {},
      "outputs": [],
      "source": [
        "datapath = \"customerReviews.txt\"\n",
        "\n",
        "def parse_data(path):\n",
        "    data = []\n",
        "    with open(path, \"r\") as f:\n",
        "        for line in f.readlines():\n",
        "            sep_idx = line.rfind(\",\")\n",
        "            data.append([line[:sep_idx], line[sep_idx + 1:].strip()])\n",
        "\n",
        "    return data"
      ]
    },
    {
      "cell_type": "code",
      "execution_count": 4,
      "metadata": {
        "colab": {
          "base_uri": "https://localhost:8080/"
        },
        "id": "cLOCwFKW_lU3",
        "outputId": "8c72bd36-5ebf-44ab-f43d-eebdd60a8d34"
      },
      "outputs": [],
      "source": [
        "#preprocessing\n",
        "data = parse_data(datapath)\n",
        "df=pd.DataFrame(data, columns=['review', 'label'])\n",
        "df = df.dropna(how=\"any\")\n",
        "\n",
        "size = df.shape[0]\n",
        "train_data = df.loc[:int(0.7 * size)]\n",
        "test_data = df.loc[int(0.7 * size):]"
      ]
    },
    {
      "cell_type": "code",
      "execution_count": 5,
      "metadata": {
        "colab": {
          "base_uri": "https://localhost:8080/"
        },
        "id": "Q0idJySlBRMn",
        "outputId": "e075ba8c-2ad8-4450-fa55-690405b567cd"
      },
      "outputs": [
        {
          "name": "stdout",
          "output_type": "stream",
          "text": [
            "Train Accuracy: 0.8585858585858586 \n",
            "Test Accuracy: 0.813953488372093 \n"
          ]
        }
      ],
      "source": [
        "def evaluate_model(model, data):\n",
        "    score = 0\n",
        "\n",
        "    for i in range(data.shape[0]):\n",
        "        pred, _ = model(data.iloc[i].review)\n",
        "        score += pred == data.iloc[i].label\n",
        "\n",
        "    return score / data.shape[0]\n",
        "\n",
        "ignore = [\"the\", \"is\", \"it\"]\n",
        "model = NaiveBayesClassifier(train_data)\n",
        "for k in [\"positive\", \"negative\"]:\n",
        "    for word in ignore:\n",
        "        model.con_probs[k][word] = 1\n",
        "\n",
        "print(f\"Train Accuracy: {evaluate_model(model, train_data)} \")\n",
        "print(f\"Test Accuracy: {evaluate_model(model, test_data)} \")"
      ]
    },
    {
      "cell_type": "code",
      "execution_count": 6,
      "metadata": {},
      "outputs": [
        {
          "name": "stdout",
          "output_type": "stream",
          "text": [
            "('positive', 1.6301554284060483e-07)\n",
            "('positive', 1.1923422562055663e-07)\n",
            "('positive', 6.706925191156312e-06)\n",
            "('positive', 1.4942322634630333e-07)\n"
          ]
        }
      ],
      "source": [
        "print(model(\"I had a terrible experience with this company\"))\n",
        "print(model(\"This is a great company with excellent customer service\"))\n",
        "print(model(\"I was really disappointed with this product\"))\n",
        "print(model(\"The service is too expensive for what it offers\"))"
      ]
    },
    {
      "cell_type": "code",
      "execution_count": null,
      "metadata": {},
      "outputs": [],
      "source": []
    }
  ],
  "metadata": {
    "colab": {
      "provenance": []
    },
    "kernelspec": {
      "display_name": "Python 3",
      "language": "python",
      "name": "python3"
    },
    "language_info": {
      "codemirror_mode": {
        "name": "ipython",
        "version": 3
      },
      "file_extension": ".py",
      "mimetype": "text/x-python",
      "name": "python",
      "nbconvert_exporter": "python",
      "pygments_lexer": "ipython3",
      "version": "3.10.9"
    },
    "vscode": {
      "interpreter": {
        "hash": "767d51c1340bd893661ea55ea3124f6de3c7a262a8b4abca0554b478b1e2ff90"
      }
    }
  },
  "nbformat": 4,
  "nbformat_minor": 0
}
