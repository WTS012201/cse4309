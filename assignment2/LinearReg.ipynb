{
  "cells": [
    {
      "cell_type": "markdown",
      "metadata": {},
      "source": [
        "William Sigala\n",
        "id: 1001730022"
      ]
    },
    {
      "cell_type": "code",
      "execution_count": 1,
      "metadata": {
        "colab": {
          "base_uri": "https://localhost:8080/",
          "height": 641
        },
        "id": "g1sEcmmY_KSx",
        "outputId": "75f967b9-79fa-4e85-8f43-25f4a51ef5f3"
      },
      "outputs": [],
      "source": [
        "from sklearn import decomposition, linear_model\n",
        "import pandas as pd\n",
        "from sklearn.feature_extraction.text import CountVectorizer\n",
        "import numpy as np\n",
        "import matplotlib.pyplot as plt\n",
        "from sklearn.linear_model import LogisticRegression\n",
        "from sklearn.model_selection import train_test_split"
      ]
    },
    {
      "cell_type": "code",
      "execution_count": 2,
      "metadata": {},
      "outputs": [],
      "source": [
        "def vectorize_sentences(sentences):\n",
        "  vectorizer = CountVectorizer()\n",
        "  X = vectorizer.fit_transform(sentences)\n",
        "  return X\n",
        "\n",
        "def load_lin_data(filename, sample_size):\n",
        "  df = pd.read_csv(filename, sep=',', index_col=False)\n",
        "  X = vectorize_sentences(df.iloc[:, 2])\n",
        "\n",
        "  sample = X.shape[1] - sample_size\n",
        "  \n",
        "  train = [X[:sample], df.iloc[:sample, -1]]\n",
        "  test = [X[sample:], df.iloc[sample:, -1]]\n",
        "\n",
        "  return train, test"
      ]
    },
    {
      "cell_type": "code",
      "execution_count": 3,
      "metadata": {},
      "outputs": [],
      "source": [
        "def lin_model(dataset):\n",
        "    sample_size = 80\n",
        "    train, test = load_lin_data(dataset, sample_size)\n",
        "\n",
        "    features, labels = train\n",
        "    pca = decomposition.TruncatedSVD(n_components=sample_size)\n",
        "    features = pca.fit_transform(features)\n",
        "\n",
        "    reg = linear_model.LinearRegression()\n",
        "    reg.fit(features, labels)\n",
        "\n",
        "\n",
        "    X_test, Y_test = test\n",
        "    X_test = pca.fit_transform(X_test[:sample_size + 1])\n",
        "    pred = reg.predict(X_test)\n",
        "\n",
        "    sum_acc = 0\n",
        "    for u, v in zip(pred, labels):\n",
        "        sum_acc += abs(u - v) / v\n",
        "\n",
        "    count = pred.shape[0]\n",
        "\n",
        "    print(\"Predicting time to resolve based on review\")\n",
        "    print(\"Accuracy on test set by our model\t : \", (\n",
        "        1 - sum_acc / count) * 100)\n",
        "\n",
        "\n",
        "\n",
        "def log_model(dataset):\n",
        "    df = pd.read_csv(dataset)\n",
        "    X = df.iloc[:, :-1].values\n",
        "    Y = df.iloc[:, -1:].values\n",
        "\n",
        "    X_train, X_test, Y_train, Y_test = train_test_split(\n",
        "        X, Y, test_size=1/3, random_state=0)\n",
        "\n",
        "    model = LogisticRegression()\n",
        "    model.fit(X_train, Y_train)\n",
        "\n",
        "    Y_pred = model.predict(X_test)\n",
        "\n",
        "    correctly_classified = 0\n",
        "\n",
        "    count = 0\n",
        "    for count in range(np.size(Y_pred)):\n",
        "\n",
        "        if Y_test[count] == Y_pred[count]:\n",
        "            correctly_classified = correctly_classified + 1\n",
        "\n",
        "        count = count + 1\n",
        "\n",
        "    print(\"Predicting review category\")\n",
        "    print(\"Accuracy on test set by our model\t : \", (\n",
        "        correctly_classified / count) * 100)"
      ]
    },
    {
      "cell_type": "code",
      "execution_count": 4,
      "metadata": {},
      "outputs": [
        {
          "name": "stdout",
          "output_type": "stream",
          "text": [
            "Predicting review category\n",
            "Accuracy on test set by our model\t :  60.0\n"
          ]
        },
        {
          "name": "stderr",
          "output_type": "stream",
          "text": [
            "/home/will/.local/lib/python3.10/site-packages/sklearn/utils/validation.py:1111: DataConversionWarning: A column-vector y was passed when a 1d array was expected. Please change the shape of y to (n_samples, ), for example using ravel().\n",
            "  y = column_or_1d(y, warn=True)\n"
          ]
        }
      ],
      "source": [
        "# dataset =  \"CustomerService.csv\"\n",
        "dataset = \"ModifiedHeartDisease.csv\"\n",
        "\n",
        "if dataset == \"CustomerService.csv\":\n",
        "    lin_model(dataset)\n",
        "else:\n",
        "    log_model(dataset)"
      ]
    },
    {
      "cell_type": "code",
      "execution_count": null,
      "metadata": {},
      "outputs": [],
      "source": []
    }
  ],
  "metadata": {
    "colab": {
      "provenance": []
    },
    "kernelspec": {
      "display_name": "Python 3",
      "language": "python",
      "name": "python3"
    },
    "language_info": {
      "codemirror_mode": {
        "name": "ipython",
        "version": 3
      },
      "file_extension": ".py",
      "mimetype": "text/x-python",
      "name": "python",
      "nbconvert_exporter": "python",
      "pygments_lexer": "ipython3",
      "version": "3.10.9"
    },
    "vscode": {
      "interpreter": {
        "hash": "767d51c1340bd893661ea55ea3124f6de3c7a262a8b4abca0554b478b1e2ff90"
      }
    }
  },
  "nbformat": 4,
  "nbformat_minor": 0
}
